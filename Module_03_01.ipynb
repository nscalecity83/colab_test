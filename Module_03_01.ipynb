{
  "nbformat": 4,
  "nbformat_minor": 0,
  "metadata": {
    "colab": {
      "provenance": [],
      "authorship_tag": "ABX9TyNGIS7krE5e9Wcx2e9BzMIO",
      "include_colab_link": true
    },
    "kernelspec": {
      "name": "python3",
      "display_name": "Python 3"
    },
    "language_info": {
      "name": "python"
    }
  },
  "cells": [
    {
      "cell_type": "markdown",
      "metadata": {
        "id": "view-in-github",
        "colab_type": "text"
      },
      "source": [
        "<a href=\"https://colab.research.google.com/github/nscalecity83/colab_test/blob/main/Module_03_01.ipynb\" target=\"_parent\"><img src=\"https://colab.research.google.com/assets/colab-badge.svg\" alt=\"Open In Colab\"/></a>"
      ]
    },
    {
      "cell_type": "markdown",
      "source": [
        "# Это мое первое текстовое поле"
      ],
      "metadata": {
        "id": "YXGSFJ9lADJi"
      }
    },
    {
      "cell_type": "code",
      "source": [
        "print('Это мое первое текстовое поле')"
      ],
      "metadata": {
        "colab": {
          "base_uri": "https://localhost:8080/"
        },
        "id": "VX5lt9ZcABi7",
        "outputId": "f9793f88-a75f-4d3c-d025-195f045ad837"
      },
      "execution_count": 1,
      "outputs": [
        {
          "output_type": "stream",
          "name": "stdout",
          "text": [
            "Это мое первое текстовое поле\n"
          ]
        }
      ]
    }
  ]
}