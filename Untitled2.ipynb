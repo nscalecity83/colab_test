{
  "nbformat": 4,
  "nbformat_minor": 0,
  "metadata": {
    "colab": {
      "provenance": [],
      "authorship_tag": "ABX9TyNcCiFh/qac/bpOFA2jK4sX",
      "include_colab_link": true
    },
    "kernelspec": {
      "name": "python3",
      "display_name": "Python 3"
    },
    "language_info": {
      "name": "python"
    }
  },
  "cells": [
    {
      "cell_type": "markdown",
      "metadata": {
        "id": "view-in-github",
        "colab_type": "text"
      },
      "source": [
        "<a href=\"https://colab.research.google.com/github/nscalecity83/colab_test/blob/main/Untitled2.ipynb\" target=\"_parent\"><img src=\"https://colab.research.google.com/assets/colab-badge.svg\" alt=\"Open In Colab\"/></a>"
      ]
    },
    {
      "cell_type": "markdown",
      "source": [],
      "metadata": {
        "id": "2uaZ2BcKSq4j"
      }
    },
    {
      "cell_type": "markdown",
      "source": [
        "Привет мир!"
      ],
      "metadata": {
        "id": "B-aNM-iaS-CK"
      }
    },
    {
      "cell_type": "code",
      "source": [
        "# @title\n",
        "a = 5\n",
        "b = 4"
      ],
      "metadata": {
        "id": "mqZYpXnHTcsg"
      },
      "execution_count": 1,
      "outputs": []
    },
    {
      "cell_type": "code",
      "source": [
        "a + b"
      ],
      "metadata": {
        "colab": {
          "base_uri": "https://localhost:8080/"
        },
        "id": "bGmHD1uVUKcB",
        "outputId": "8ce5a05e-c2c0-47ba-8c0d-4525b3ff12d3"
      },
      "execution_count": 2,
      "outputs": [
        {
          "output_type": "execute_result",
          "data": {
            "text/plain": [
              "9"
            ]
          },
          "metadata": {},
          "execution_count": 2
        }
      ]
    },
    {
      "cell_type": "markdown",
      "source": [
        "Привет мир!"
      ],
      "metadata": {
        "id": "UzFb7AuVVumO"
      }
    },
    {
      "cell_type": "code",
      "source": [
        "print('Hello World!')"
      ],
      "metadata": {
        "colab": {
          "base_uri": "https://localhost:8080/"
        },
        "id": "tHJANwttVxTN",
        "outputId": "d8ac0586-fccd-4733-bd10-bdd3d67862de"
      },
      "execution_count": 3,
      "outputs": [
        {
          "output_type": "stream",
          "name": "stdout",
          "text": [
            "Hello World!\n"
          ]
        }
      ]
    },
    {
      "cell_type": "markdown",
      "source": [
        "# Раздел\n",
        "## Подраздел"
      ],
      "metadata": {
        "id": "TEgbXrbCWzV1"
      }
    },
    {
      "cell_type": "code",
      "source": [],
      "metadata": {
        "id": "rXQb9qPxW9EV"
      },
      "execution_count": null,
      "outputs": []
    }
  ]
}